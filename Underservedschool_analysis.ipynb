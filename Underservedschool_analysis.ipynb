{
 "cells": [
  {
   "cell_type": "code",
   "execution_count": 2,
   "metadata": {
    "collapsed": true
   },
   "outputs": [],
   "source": [
    "#import dependencies\n",
    "import pandas as pd\n",
    "import matplotlib.pyplot as plt\n",
    "import numpy as np\n",
    "import scipy.stats as stats\n",
    "import sklearn"
   ]
  },
  {
   "cell_type": "code",
   "execution_count": 3,
   "metadata": {
    "collapsed": true
   },
   "outputs": [],
   "source": [
    "#importing data of underserved school in newyork\n",
    "schools_data=pd.read_csv(\"2016 School Explorer.csv\")\n",
    "#importing data of D5 and SHSAT registrations\n",
    "SHSAT_Data=pd.read_csv(\"D5 SHSAT Registrations and Testers.csv\")"
   ]
  },
  {
   "cell_type": "code",
   "execution_count": 4,
   "metadata": {},
   "outputs": [
    {
     "data": {
      "text/html": [
       "<div>\n",
       "<style>\n",
       "    .dataframe thead tr:only-child th {\n",
       "        text-align: right;\n",
       "    }\n",
       "\n",
       "    .dataframe thead th {\n",
       "        text-align: left;\n",
       "    }\n",
       "\n",
       "    .dataframe tbody tr th {\n",
       "        vertical-align: top;\n",
       "    }\n",
       "</style>\n",
       "<table border=\"1\" class=\"dataframe\">\n",
       "  <thead>\n",
       "    <tr style=\"text-align: right;\">\n",
       "      <th></th>\n",
       "      <th>Adjusted Grade</th>\n",
       "      <th>New?</th>\n",
       "      <th>Other Location Code in LCGMS</th>\n",
       "      <th>School Name</th>\n",
       "      <th>SED Code</th>\n",
       "      <th>Location Code</th>\n",
       "      <th>District</th>\n",
       "      <th>Latitude</th>\n",
       "      <th>Longitude</th>\n",
       "      <th>Address (Full)</th>\n",
       "      <th>...</th>\n",
       "      <th>Grade 8 Math - All Students Tested</th>\n",
       "      <th>Grade 8 Math 4s - All Students</th>\n",
       "      <th>Grade 8 Math 4s - American Indian or Alaska Native</th>\n",
       "      <th>Grade 8 Math 4s - Black or African American</th>\n",
       "      <th>Grade 8 Math 4s - Hispanic or Latino</th>\n",
       "      <th>Grade 8 Math 4s - Asian or Pacific Islander</th>\n",
       "      <th>Grade 8 Math 4s - White</th>\n",
       "      <th>Grade 8 Math 4s - Multiracial</th>\n",
       "      <th>Grade 8 Math 4s - Limited English Proficient</th>\n",
       "      <th>Grade 8 Math 4s - Economically Disadvantaged</th>\n",
       "    </tr>\n",
       "  </thead>\n",
       "  <tbody>\n",
       "    <tr>\n",
       "      <th>0</th>\n",
       "      <td>NaN</td>\n",
       "      <td>NaN</td>\n",
       "      <td>NaN</td>\n",
       "      <td>P.S. 015 ROBERTO CLEMENTE</td>\n",
       "      <td>310100010015</td>\n",
       "      <td>01M015</td>\n",
       "      <td>1</td>\n",
       "      <td>40.721834</td>\n",
       "      <td>-73.978766</td>\n",
       "      <td>333 E 4TH ST NEW YORK, NY 10009</td>\n",
       "      <td>...</td>\n",
       "      <td>0</td>\n",
       "      <td>0</td>\n",
       "      <td>0</td>\n",
       "      <td>0</td>\n",
       "      <td>0</td>\n",
       "      <td>0</td>\n",
       "      <td>0</td>\n",
       "      <td>0</td>\n",
       "      <td>0</td>\n",
       "      <td>0</td>\n",
       "    </tr>\n",
       "    <tr>\n",
       "      <th>1</th>\n",
       "      <td>NaN</td>\n",
       "      <td>NaN</td>\n",
       "      <td>NaN</td>\n",
       "      <td>P.S. 019 ASHER LEVY</td>\n",
       "      <td>310100010019</td>\n",
       "      <td>01M019</td>\n",
       "      <td>1</td>\n",
       "      <td>40.729892</td>\n",
       "      <td>-73.984231</td>\n",
       "      <td>185 1ST AVE NEW YORK, NY 10003</td>\n",
       "      <td>...</td>\n",
       "      <td>0</td>\n",
       "      <td>0</td>\n",
       "      <td>0</td>\n",
       "      <td>0</td>\n",
       "      <td>0</td>\n",
       "      <td>0</td>\n",
       "      <td>0</td>\n",
       "      <td>0</td>\n",
       "      <td>0</td>\n",
       "      <td>0</td>\n",
       "    </tr>\n",
       "    <tr>\n",
       "      <th>2</th>\n",
       "      <td>NaN</td>\n",
       "      <td>NaN</td>\n",
       "      <td>NaN</td>\n",
       "      <td>P.S. 020 ANNA SILVER</td>\n",
       "      <td>310100010020</td>\n",
       "      <td>01M020</td>\n",
       "      <td>1</td>\n",
       "      <td>40.721274</td>\n",
       "      <td>-73.986315</td>\n",
       "      <td>166 ESSEX ST NEW YORK, NY 10002</td>\n",
       "      <td>...</td>\n",
       "      <td>0</td>\n",
       "      <td>0</td>\n",
       "      <td>0</td>\n",
       "      <td>0</td>\n",
       "      <td>0</td>\n",
       "      <td>0</td>\n",
       "      <td>0</td>\n",
       "      <td>0</td>\n",
       "      <td>0</td>\n",
       "      <td>0</td>\n",
       "    </tr>\n",
       "    <tr>\n",
       "      <th>3</th>\n",
       "      <td>NaN</td>\n",
       "      <td>NaN</td>\n",
       "      <td>NaN</td>\n",
       "      <td>P.S. 034 FRANKLIN D. ROOSEVELT</td>\n",
       "      <td>310100010034</td>\n",
       "      <td>01M034</td>\n",
       "      <td>1</td>\n",
       "      <td>40.726147</td>\n",
       "      <td>-73.975043</td>\n",
       "      <td>730 E 12TH ST NEW YORK, NY 10009</td>\n",
       "      <td>...</td>\n",
       "      <td>48</td>\n",
       "      <td>1</td>\n",
       "      <td>0</td>\n",
       "      <td>0</td>\n",
       "      <td>0</td>\n",
       "      <td>0</td>\n",
       "      <td>0</td>\n",
       "      <td>0</td>\n",
       "      <td>0</td>\n",
       "      <td>0</td>\n",
       "    </tr>\n",
       "    <tr>\n",
       "      <th>4</th>\n",
       "      <td>NaN</td>\n",
       "      <td>NaN</td>\n",
       "      <td>NaN</td>\n",
       "      <td>THE STAR ACADEMY - P.S.63</td>\n",
       "      <td>310100010063</td>\n",
       "      <td>01M063</td>\n",
       "      <td>1</td>\n",
       "      <td>40.724404</td>\n",
       "      <td>-73.986360</td>\n",
       "      <td>121 E 3RD ST NEW YORK, NY 10009</td>\n",
       "      <td>...</td>\n",
       "      <td>0</td>\n",
       "      <td>0</td>\n",
       "      <td>0</td>\n",
       "      <td>0</td>\n",
       "      <td>0</td>\n",
       "      <td>0</td>\n",
       "      <td>0</td>\n",
       "      <td>0</td>\n",
       "      <td>0</td>\n",
       "      <td>0</td>\n",
       "    </tr>\n",
       "  </tbody>\n",
       "</table>\n",
       "<p>5 rows × 161 columns</p>\n",
       "</div>"
      ],
      "text/plain": [
       "  Adjusted Grade New? Other Location Code in LCGMS  \\\n",
       "0            NaN  NaN                          NaN   \n",
       "1            NaN  NaN                          NaN   \n",
       "2            NaN  NaN                          NaN   \n",
       "3            NaN  NaN                          NaN   \n",
       "4            NaN  NaN                          NaN   \n",
       "\n",
       "                      School Name      SED Code Location Code  District  \\\n",
       "0       P.S. 015 ROBERTO CLEMENTE  310100010015        01M015         1   \n",
       "1             P.S. 019 ASHER LEVY  310100010019        01M019         1   \n",
       "2            P.S. 020 ANNA SILVER  310100010020        01M020         1   \n",
       "3  P.S. 034 FRANKLIN D. ROOSEVELT  310100010034        01M034         1   \n",
       "4       THE STAR ACADEMY - P.S.63  310100010063        01M063         1   \n",
       "\n",
       "    Latitude  Longitude                    Address (Full)  \\\n",
       "0  40.721834 -73.978766   333 E 4TH ST NEW YORK, NY 10009   \n",
       "1  40.729892 -73.984231    185 1ST AVE NEW YORK, NY 10003   \n",
       "2  40.721274 -73.986315   166 ESSEX ST NEW YORK, NY 10002   \n",
       "3  40.726147 -73.975043  730 E 12TH ST NEW YORK, NY 10009   \n",
       "4  40.724404 -73.986360   121 E 3RD ST NEW YORK, NY 10009   \n",
       "\n",
       "                      ...                       \\\n",
       "0                     ...                        \n",
       "1                     ...                        \n",
       "2                     ...                        \n",
       "3                     ...                        \n",
       "4                     ...                        \n",
       "\n",
       "  Grade 8 Math - All Students Tested  Grade 8 Math 4s - All Students  \\\n",
       "0                                  0                               0   \n",
       "1                                  0                               0   \n",
       "2                                  0                               0   \n",
       "3                                 48                               1   \n",
       "4                                  0                               0   \n",
       "\n",
       "  Grade 8 Math 4s - American Indian or Alaska Native  \\\n",
       "0                                                  0   \n",
       "1                                                  0   \n",
       "2                                                  0   \n",
       "3                                                  0   \n",
       "4                                                  0   \n",
       "\n",
       "  Grade 8 Math 4s - Black or African American  \\\n",
       "0                                           0   \n",
       "1                                           0   \n",
       "2                                           0   \n",
       "3                                           0   \n",
       "4                                           0   \n",
       "\n",
       "  Grade 8 Math 4s - Hispanic or Latino  \\\n",
       "0                                    0   \n",
       "1                                    0   \n",
       "2                                    0   \n",
       "3                                    0   \n",
       "4                                    0   \n",
       "\n",
       "  Grade 8 Math 4s - Asian or Pacific Islander  Grade 8 Math 4s - White  \\\n",
       "0                                           0                        0   \n",
       "1                                           0                        0   \n",
       "2                                           0                        0   \n",
       "3                                           0                        0   \n",
       "4                                           0                        0   \n",
       "\n",
       "  Grade 8 Math 4s - Multiracial Grade 8 Math 4s - Limited English Proficient  \\\n",
       "0                             0                                            0   \n",
       "1                             0                                            0   \n",
       "2                             0                                            0   \n",
       "3                             0                                            0   \n",
       "4                             0                                            0   \n",
       "\n",
       "  Grade 8 Math 4s - Economically Disadvantaged  \n",
       "0                                            0  \n",
       "1                                            0  \n",
       "2                                            0  \n",
       "3                                            0  \n",
       "4                                            0  \n",
       "\n",
       "[5 rows x 161 columns]"
      ]
     },
     "execution_count": 4,
     "metadata": {},
     "output_type": "execute_result"
    }
   ],
   "source": [
    "schools_data.head()"
   ]
  },
  {
   "cell_type": "code",
   "execution_count": 5,
   "metadata": {},
   "outputs": [
    {
     "data": {
      "text/plain": [
       "['Adjusted Grade',\n",
       " 'New?',\n",
       " 'Other Location Code in LCGMS',\n",
       " 'School Name',\n",
       " 'SED Code',\n",
       " 'Location Code',\n",
       " 'District',\n",
       " 'Latitude',\n",
       " 'Longitude',\n",
       " 'Address (Full)',\n",
       " 'City',\n",
       " 'Zip',\n",
       " 'Grades',\n",
       " 'Grade Low',\n",
       " 'Grade High',\n",
       " 'Community School?',\n",
       " 'Economic Need Index',\n",
       " 'School Income Estimate',\n",
       " 'Percent ELL',\n",
       " 'Percent Asian',\n",
       " 'Percent Black',\n",
       " 'Percent Hispanic',\n",
       " 'Percent Black / Hispanic',\n",
       " 'Percent White',\n",
       " 'Student Attendance Rate',\n",
       " 'Percent of Students Chronically Absent',\n",
       " 'Rigorous Instruction %',\n",
       " 'Rigorous Instruction Rating',\n",
       " 'Collaborative Teachers %',\n",
       " 'Collaborative Teachers Rating',\n",
       " 'Supportive Environment %',\n",
       " 'Supportive Environment Rating',\n",
       " 'Effective School Leadership %',\n",
       " 'Effective School Leadership Rating',\n",
       " 'Strong Family-Community Ties %',\n",
       " 'Strong Family-Community Ties Rating',\n",
       " 'Trust %',\n",
       " 'Trust Rating',\n",
       " 'Student Achievement Rating',\n",
       " 'Average ELA Proficiency',\n",
       " 'Average Math Proficiency',\n",
       " 'Grade 3 ELA - All Students Tested',\n",
       " 'Grade 3 ELA 4s - All Students',\n",
       " 'Grade 3 ELA 4s - American Indian or Alaska Native',\n",
       " 'Grade 3 ELA 4s - Black or African American',\n",
       " 'Grade 3 ELA 4s - Hispanic or Latino',\n",
       " 'Grade 3 ELA 4s - Asian or Pacific Islander',\n",
       " 'Grade 3 ELA 4s - White',\n",
       " 'Grade 3 ELA 4s - Multiracial',\n",
       " 'Grade 3 ELA 4s - Limited English Proficient',\n",
       " 'Grade 3 ELA 4s - Economically Disadvantaged',\n",
       " 'Grade 3 Math - All Students tested',\n",
       " 'Grade 3 Math 4s - All Students',\n",
       " 'Grade 3 Math 4s - American Indian or Alaska Native',\n",
       " 'Grade 3 Math 4s - Black or African American',\n",
       " 'Grade 3 Math 4s - Hispanic or Latino',\n",
       " 'Grade 3 Math 4s - Asian or Pacific Islander',\n",
       " 'Grade 3 Math 4s - White',\n",
       " 'Grade 3 Math 4s - Multiracial',\n",
       " 'Grade 3 Math 4s - Limited English Proficient',\n",
       " 'Grade 3 Math 4s - Economically Disadvantaged',\n",
       " 'Grade 4 ELA - All Students Tested',\n",
       " 'Grade 4 ELA 4s - All Students',\n",
       " 'Grade 4 ELA 4s - American Indian or Alaska Native',\n",
       " 'Grade 4 ELA 4s - Black or African American',\n",
       " 'Grade 4 ELA 4s - Hispanic or Latino',\n",
       " 'Grade 4 ELA 4s - Asian or Pacific Islander',\n",
       " 'Grade 4 ELA 4s - White',\n",
       " 'Grade 4 ELA 4s - Multiracial',\n",
       " 'Grade 4 ELA 4s - Limited English Proficient',\n",
       " 'Grade 4 ELA 4s - Economically Disadvantaged',\n",
       " 'Grade 4 Math - All Students Tested',\n",
       " 'Grade 4 Math 4s - All Students',\n",
       " 'Grade 4 Math 4s - American Indian or Alaska Native',\n",
       " 'Grade 4 Math 4s - Black or African American',\n",
       " 'Grade 4 Math 4s - Hispanic or Latino',\n",
       " 'Grade 4 Math 4s - Asian or Pacific Islander',\n",
       " 'Grade 4 Math 4s - White',\n",
       " 'Grade 4 Math 4s - Multiracial',\n",
       " 'Grade 4 Math 4s - Limited English Proficient',\n",
       " 'Grade 4 Math 4s - Economically Disadvantaged',\n",
       " 'Grade 5 ELA - All Students Tested',\n",
       " 'Grade 5 ELA 4s - All Students',\n",
       " 'Grade 5 ELA 4s - American Indian or Alaska Native',\n",
       " 'Grade 5 ELA 4s - Black or African American',\n",
       " 'Grade 5 ELA 4s - Hispanic or Latino',\n",
       " 'Grade 5 ELA 4s - Asian or Pacific Islander',\n",
       " 'Grade 5 ELA 4s - White',\n",
       " 'Grade 5 ELA 4s - Multiracial',\n",
       " 'Grade 5 ELA 4s - Limited English Proficient',\n",
       " 'Grade 5 ELA 4s - Economically Disadvantaged',\n",
       " 'Grade 5 Math - All Students Tested',\n",
       " 'Grade 5 Math 4s - All Students',\n",
       " 'Grade 5 Math 4s - American Indian or Alaska Native',\n",
       " 'Grade 5 Math 4s - Black or African American',\n",
       " 'Grade 5 Math 4s - Hispanic or Latino',\n",
       " 'Grade 5 Math 4s - Asian or Pacific Islander',\n",
       " 'Grade 5 Math 4s - White',\n",
       " 'Grade 5 Math 4s - Multiracial',\n",
       " 'Grade 5 Math 4s - Limited English Proficient',\n",
       " 'Grade 5 Math 4s - Economically Disadvantaged',\n",
       " 'Grade 6 ELA - All Students Tested',\n",
       " 'Grade 6 ELA 4s - All Students',\n",
       " 'Grade 6 ELA 4s - American Indian or Alaska Native',\n",
       " 'Grade 6 ELA 4s - Black or African American',\n",
       " 'Grade 6 ELA 4s - Hispanic or Latino',\n",
       " 'Grade 6 ELA 4s - Asian or Pacific Islander',\n",
       " 'Grade 6 ELA 4s - White',\n",
       " 'Grade 6 ELA 4s - Multiracial',\n",
       " 'Grade 6 ELA 4s - Limited English Proficient',\n",
       " 'Grade 6 ELA 4s - Economically Disadvantaged',\n",
       " 'Grade 6 Math - All Students Tested',\n",
       " 'Grade 6 Math 4s - All Students',\n",
       " 'Grade 6 Math 4s - American Indian or Alaska Native',\n",
       " 'Grade 6 Math 4s - Black or African American',\n",
       " 'Grade 6 Math 4s - Hispanic or Latino',\n",
       " 'Grade 6 Math 4s - Asian or Pacific Islander',\n",
       " 'Grade 6 Math 4s - White',\n",
       " 'Grade 6 Math 4s - Multiracial',\n",
       " 'Grade 6 Math 4s - Limited English Proficient',\n",
       " 'Grade 6 Math 4s - Economically Disadvantaged',\n",
       " 'Grade 7 ELA - All Students Tested',\n",
       " 'Grade 7 ELA 4s - All Students',\n",
       " 'Grade 7 ELA 4s - American Indian or Alaska Native',\n",
       " 'Grade 7 ELA 4s - Black or African American',\n",
       " 'Grade 7 ELA 4s - Hispanic or Latino',\n",
       " 'Grade 7 ELA 4s - Asian or Pacific Islander',\n",
       " 'Grade 7 ELA 4s - White',\n",
       " 'Grade 7 ELA 4s - Multiracial',\n",
       " 'Grade 7 ELA 4s - Limited English Proficient',\n",
       " 'Grade 7 ELA 4s - Economically Disadvantaged',\n",
       " 'Grade 7 Math - All Students Tested',\n",
       " 'Grade 7 Math 4s - All Students',\n",
       " 'Grade 7 Math 4s - American Indian or Alaska Native',\n",
       " 'Grade 7 Math 4s - Black or African American',\n",
       " 'Grade 7 Math 4s - Hispanic or Latino',\n",
       " 'Grade 7 Math 4s - Asian or Pacific Islander',\n",
       " 'Grade 7 Math 4s - White',\n",
       " 'Grade 7 Math 4s - Multiracial',\n",
       " 'Grade 7 Math 4s - Limited English Proficient',\n",
       " 'Grade 7 Math 4s - Economically Disadvantaged',\n",
       " 'Grade 8 ELA - All Students Tested',\n",
       " 'Grade 8 ELA 4s - All Students',\n",
       " 'Grade 8 ELA 4s - American Indian or Alaska Native',\n",
       " 'Grade 8 ELA 4s - Black or African American',\n",
       " 'Grade 8 ELA 4s - Hispanic or Latino',\n",
       " 'Grade 8 ELA 4s - Asian or Pacific Islander',\n",
       " 'Grade 8 ELA 4s - White',\n",
       " 'Grade 8 ELA 4s - Multiracial',\n",
       " 'Grade 8 ELA 4s - Limited English Proficient',\n",
       " 'Grade 8 ELA 4s - Economically Disadvantaged',\n",
       " 'Grade 8 Math - All Students Tested',\n",
       " 'Grade 8 Math 4s - All Students',\n",
       " 'Grade 8 Math 4s - American Indian or Alaska Native',\n",
       " 'Grade 8 Math 4s - Black or African American',\n",
       " 'Grade 8 Math 4s - Hispanic or Latino',\n",
       " 'Grade 8 Math 4s - Asian or Pacific Islander',\n",
       " 'Grade 8 Math 4s - White',\n",
       " 'Grade 8 Math 4s - Multiracial',\n",
       " 'Grade 8 Math 4s - Limited English Proficient',\n",
       " 'Grade 8 Math 4s - Economically Disadvantaged']"
      ]
     },
     "execution_count": 5,
     "metadata": {},
     "output_type": "execute_result"
    }
   ],
   "source": [
    "#checking field names in school dataset\n",
    "list(schools_data)\n"
   ]
  },
  {
   "cell_type": "code",
   "execution_count": 127,
   "metadata": {},
   "outputs": [],
   "source": [
    "replaced_NA=schools_data[\"Economic Need Index\"].fillna(0.5)"
   ]
  },
  {
   "cell_type": "code",
   "execution_count": 128,
   "metadata": {
    "scrolled": false
   },
   "outputs": [
    {
     "data": {
      "text/plain": [
       "float"
      ]
     },
     "execution_count": 128,
     "metadata": {},
     "output_type": "execute_result"
    }
   ],
   "source": [
    "#storing school name , economic need index and percent black/hispanic in a list\n",
    "new_lst=[]\n",
    "for i in range(0,len(schools_data)):\n",
    "    a=schools_data.iloc[i]['School Name']\n",
    "    b=replaced_NA.iloc[i]\n",
    "    b=float(b)\n",
    "    b=round(b,2)\n",
    "    c=schools_data.iloc[i]['Percent Black / Hispanic']\n",
    "    c=float(c[:-1])\n",
    "    new_lst.append([b,c])\n",
    "type(c)"
   ]
  },
  {
   "cell_type": "code",
   "execution_count": 129,
   "metadata": {},
   "outputs": [
    {
     "data": {
      "text/plain": [
       "Index(['Adjusted Grade', 'New?', 'Other Location Code in LCGMS', 'School Name',\n",
       "       'SED Code', 'Location Code', 'District', 'Latitude', 'Longitude',\n",
       "       'Address (Full)',\n",
       "       ...\n",
       "       'Grade 8 Math - All Students Tested', 'Grade 8 Math 4s - All Students',\n",
       "       'Grade 8 Math 4s - American Indian or Alaska Native',\n",
       "       'Grade 8 Math 4s - Black or African American',\n",
       "       'Grade 8 Math 4s - Hispanic or Latino',\n",
       "       'Grade 8 Math 4s - Asian or Pacific Islander',\n",
       "       'Grade 8 Math 4s - White', 'Grade 8 Math 4s - Multiracial',\n",
       "       'Grade 8 Math 4s - Limited English Proficient',\n",
       "       'Grade 8 Math 4s - Economically Disadvantaged'],\n",
       "      dtype='object', length=161)"
      ]
     },
     "execution_count": 129,
     "metadata": {},
     "output_type": "execute_result"
    }
   ],
   "source": [
    "#another way to see all the field names\n",
    "schools_data.keys()"
   ]
  },
  {
   "cell_type": "code",
   "execution_count": null,
   "metadata": {
    "collapsed": true
   },
   "outputs": [],
   "source": []
  },
  {
   "cell_type": "code",
   "execution_count": 130,
   "metadata": {
    "collapsed": true
   },
   "outputs": [],
   "source": [
    "#converting list into array\n",
    "new_array=np.array(new_lst)"
   ]
  },
  {
   "cell_type": "code",
   "execution_count": 131,
   "metadata": {
    "collapsed": true,
    "scrolled": true
   },
   "outputs": [],
   "source": [
    "x=new_array[:,0:1]"
   ]
  },
  {
   "cell_type": "code",
   "execution_count": 132,
   "metadata": {},
   "outputs": [
    {
     "data": {
      "text/plain": [
       "numpy.float64"
      ]
     },
     "execution_count": 132,
     "metadata": {},
     "output_type": "execute_result"
    }
   ],
   "source": [
    "y=new_array[:,1:]\n",
    "type(y[0][0])"
   ]
  },
  {
   "cell_type": "code",
   "execution_count": null,
   "metadata": {},
   "outputs": [],
   "source": []
  },
  {
   "cell_type": "code",
   "execution_count": 133,
   "metadata": {},
   "outputs": [
    {
     "data": {
      "image/png": "[encoded data removed]",
      "text/plain": [
       "<matplotlib.figure.Figure at 0x23ce6cd52e8>"
      ]
     },
     "metadata": {},
     "output_type": "display_data"
    }
   ],
   "source": [
    "plt.figure(figsize=(25,25))\n",
    "plt.xlabel(\"Economic need index from 0 - 1\")\n",
    "plt.ylabel(\"Percentage of black/hispanic population\")\n",
    "plt.title(\"Relationship between black/hispanic population and Economic need index \")\n",
    "plt.scatter(x,y)\n",
    "plt.show()"
   ]
  },
  {
   "cell_type": "code",
   "execution_count": 134,
   "metadata": {},
   "outputs": [],
   "source": [
    "#import linear regression from scikit learn and store it in a variable\n",
    "from sklearn.linear_model import LinearRegression\n",
    "lm=LinearRegression()"
   ]
  },
  {
   "cell_type": "code",
   "execution_count": 140,
   "metadata": {},
   "outputs": [
    {
     "name": "stdout",
     "output_type": "stream",
     "text": [
      "LinearRegression(copy_X=True, fit_intercept=True, n_jobs=1, normalize=False)\n"
     ]
    }
   ],
   "source": [
    "#Next, we fit the model to our data using the fit method. \n",
    "lm.fit(x,y)\n",
    "print(lm)"
   ]
  },
  {
   "cell_type": "code",
   "execution_count": 136,
   "metadata": {},
   "outputs": [
    {
     "name": "stdout",
     "output_type": "stream",
     "text": [
      "Weight coefficients:  [[ 106.43824266]]\n",
      "y-axis intercept:  [ 1.9415369]\n"
     ]
    }
   ],
   "source": [
    "print('Weight coefficients: ', lm.coef_)\n",
    "print('y-axis intercept: ', lm.intercept_) "
   ]
  },
  {
   "cell_type": "code",
   "execution_count": 137,
   "metadata": {},
   "outputs": [
    {
     "data": {
      "text/plain": [
       "<matplotlib.collections.PathCollection at 0x23ce6da12e8>"
      ]
     },
     "execution_count": 137,
     "metadata": {},
     "output_type": "execute_result"
    }
   ],
   "source": [
    "plt.scatter(x, y, c='blue')"
   ]
  },
  {
   "cell_type": "code",
   "execution_count": 138,
   "metadata": {},
   "outputs": [
    {
     "data": {
      "image/png": "[encoded data removed]",
      "text/plain": [
       "<matplotlib.figure.Figure at 0x23ce78621d0>"
      ]
     },
     "metadata": {},
     "output_type": "display_data"
    }
   ],
   "source": [
    "plt.show()"
   ]
  },
  {
   "cell_type": "code",
   "execution_count": 144,
   "metadata": {},
   "outputs": [
    {
     "name": "stdout",
     "output_type": "stream",
     "text": [
      "True output: [ 92.]\n",
      "Predicted output: [ 99.86472015]\n",
      "Prediction Error: [ 7.86472015]\n"
     ]
    }
   ],
   "source": [
    "predictions = lm.predict(x)\n",
    "print(f\"True output: {y[0]}\")\n",
    "print(f\"Predicted output: {predictions[0]}\")\n",
    "print(f\"Prediction Error: {predictions[0]-y[0]}\")"
   ]
  },
  {
   "cell_type": "code",
   "execution_count": 148,
   "metadata": {},
   "outputs": [],
   "source": [
    "x_min = x.min()\n",
    "x_max = x.max()"
   ]
  },
  {
   "cell_type": "code",
   "execution_count": 149,
   "metadata": {
    "collapsed": true
   },
   "outputs": [],
   "source": [
    "y_min_actual = y.min()\n",
    "y_max_actual = y.max()"
   ]
  },
  {
   "cell_type": "code",
   "execution_count": 150,
   "metadata": {},
   "outputs": [
    {
     "name": "stdout",
     "output_type": "stream",
     "text": [
      "Actual Min Value: 3.0\n",
      "Calculated Min Value: 7.2634490330000006\n",
      "Actual Max Value: 100.0\n",
      "Calculated Max Value: 104.1222498536\n"
     ]
    }
   ],
   "source": [
    "y_min = 1.9415369 + 106.43824266 * x_min\n",
    "y_max = 1.9415369 + 106.43824266 * x_max\n",
    "print(f\"Actual Min Value: {y_min_actual}\")\n",
    "print(f\"Calculated Min Value: {y_min}\")\n",
    "print(f\"Actual Max Value: {y_max_actual}\")\n",
    "print(f\"Calculated Max Value: {y_max}\")"
   ]
  },
  {
   "cell_type": "code",
   "execution_count": 154,
   "metadata": {},
   "outputs": [
    {
     "data": {
      "text/plain": [
       "[<matplotlib.lines.Line2D at 0x23ce69cb160>]"
      ]
     },
     "execution_count": 154,
     "metadata": {},
     "output_type": "execute_result"
    }
   ],
   "source": [
    "plt.scatter(x, y, c='blue')\n",
    "plt.plot([x_min, x_max], [y_min, y_max], c='red')"
   ]
  },
  {
   "cell_type": "code",
   "execution_count": 155,
   "metadata": {},
   "outputs": [
    {
     "data": {
      "image/png": "[encoded data removed]",
      "text/plain": [
       "<matplotlib.figure.Figure at 0x23ce69cbf60>"
      ]
     },
     "metadata": {},
     "output_type": "display_data"
    }
   ],
   "source": [
    "plt.scatter(x, y, c='blue')\n",
    "plt.show()"
   ]
  },
  {
   "cell_type": "code",
   "execution_count": null,
   "metadata": {
    "collapsed": true
   },
   "outputs": [],
   "source": []
  }
 ],
 "metadata": {
  "kernelspec": {
   "display_name": "Python [default]",
   "language": "python",
   "name": "python3"
  },
  "language_info": {
   "codemirror_mode": {
    "name": "ipython",
    "version": 3
   },
   "file_extension": ".py",
   "mimetype": "text/x-python",
   "name": "python",
   "nbconvert_exporter": "python",
   "pygments_lexer": "ipython3",
   "version": "3.6.3"
  }
 },
 "nbformat": 4,
 "nbformat_minor": 2
}
